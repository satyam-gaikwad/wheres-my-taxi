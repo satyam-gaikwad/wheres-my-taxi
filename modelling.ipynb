{
 "cells": [
  {
   "cell_type": "code",
   "execution_count": 1,
   "id": "7260a32e",
   "metadata": {},
   "outputs": [],
   "source": [
    "import pandas as pd\n",
    "import numpy as np\n",
    "import matplotlib.pyplot as  plt\n",
    "from datetime import timedelta\n",
    "import seaborn as sns"
   ]
  },
  {
   "cell_type": "code",
   "execution_count": 35,
   "id": "3ed2f39c",
   "metadata": {},
   "outputs": [],
   "source": [
    "from sklearn.preprocessing import StandardScaler,LabelEncoder\n",
    "from sklearn.linear_model import LinearRegression\n",
    "from sklearn.tree import DecisionTreeRegressor\n",
    "from sklearn.ensemble import RandomForestRegressor\n",
    "from sklearn.model_selection import train_test_split,cross_val_predict,cross_val_score\n",
    "\n",
    "from sklearn.metrics import r2_score,mean_squared_error\n",
    "\n"
   ]
  },
  {
   "cell_type": "code",
   "execution_count": 2,
   "id": "dffc8530",
   "metadata": {},
   "outputs": [],
   "source": [
    "df = pd.read_pickle('pickled_parquet_1.pkl')"
   ]
  },
  {
   "cell_type": "code",
   "execution_count": null,
   "id": "a96e9f88",
   "metadata": {},
   "outputs": [],
   "source": [
    "df.columns\n"
   ]
  },
  {
   "cell_type": "code",
   "execution_count": 5,
   "id": "df796e80",
   "metadata": {},
   "outputs": [],
   "source": [
    "le=LabelEncoder()\n",
    "df['PUday'] = le.fit_transform(df['PUday'])"
   ]
  },
  {
   "cell_type": "code",
   "execution_count": null,
   "id": "4cc287e2",
   "metadata": {},
   "outputs": [],
   "source": []
  },
  {
   "cell_type": "raw",
   "id": "6e3df401",
   "metadata": {},
   "source": [
    "TASK 8: PREDICTION MODELS\n",
    "\n",
    "● I have used 3 Error Metrics to evaluate my models.\n",
    "\n",
    "○ Root Mean Square Error (RMSE)\n",
    "○ Mean Squared Error (MSE)\n",
    "○ R2 Score\n",
    "\n",
    "● And the goal is to try to maximize R2 score (1 being the best) while minimizing RMSE and MSE along with ensuring that the model does not overfit.\n",
    "\n",
    "● I have tried the following Machine Learning Models:\n",
    "\n",
    "○ Linear Regressor\n",
    "○ Decision Trees\n",
    "○ Random Forest Regressor\n",
    "○ XGB Regressor (without any Hyperparameter Tuning) and\n",
    "○ XGB with Hyperparameters\n",
    "\n",
    "● Among all the above, XGB with Hyperparameters worked the best providing a score of 3.17502 on the Test data. (which is a very high improvement on the Linear Model that was done initially which got a score of 5.60765)\n",
    "\n",
    "● Also, I tried splitting the data in different proportions to obtain the Train and Validation set and a split of 2/3rd Train and 1/3rd Validation Set along with XGB with Hyperparameters worked the best.\n"
   ]
  },
  {
   "cell_type": "code",
   "execution_count": 6,
   "id": "c16a42cd",
   "metadata": {},
   "outputs": [
    {
     "data": {
      "text/plain": [
       "Index(['VendorID', 'tpep_pickup_datetime', 'tpep_dropoff_datetime',\n",
       "       'passenger_count', 'trip_distance', 'RatecodeID', 'store_and_fwd_flag',\n",
       "       'PULocationID', 'DOLocationID', 'payment_type', 'fare_amount',\n",
       "       'total_amount', 'total_sec', 'duration', 'PUmonth', 'DOmonth', 'PUday',\n",
       "       'DOday', 'PUhour', 'DOhour', 'PUtime', 'DOtime', 'PUZone', 'DOZone'],\n",
       "      dtype='object')"
      ]
     },
     "execution_count": 6,
     "metadata": {},
     "output_type": "execute_result"
    }
   ],
   "source": [
    "df.columns"
   ]
  },
  {
   "cell_type": "code",
   "execution_count": 12,
   "id": "0011a9e8",
   "metadata": {},
   "outputs": [],
   "source": [
    "dftrain = df[['passenger_count','trip_distance','RatecodeID','PULocationID','DOLocationID','total_sec','PUhour','PUday']]"
   ]
  },
  {
   "cell_type": "code",
   "execution_count": 13,
   "id": "fc34e84b",
   "metadata": {},
   "outputs": [],
   "source": [
    "dftest = df['total_amount']"
   ]
  },
  {
   "cell_type": "code",
   "execution_count": 15,
   "id": "9fee5535",
   "metadata": {},
   "outputs": [],
   "source": [
    "x_train,x_test,y_train,y_test = train_test_split(dftrain,dftest,test_size=0.3)"
   ]
  },
  {
   "cell_type": "code",
   "execution_count": 25,
   "id": "78adc763",
   "metadata": {},
   "outputs": [],
   "source": [
    "#LINEAR REGRESSION\n",
    "\n",
    "lregr = LinearRegression()\n",
    "lregr.fit(x_train,y_train)\n",
    "LR_y_test_pred = lregr.predict(x_test)\n",
    "\n",
    "\n",
    "# ERROR METRICS\n",
    "\n",
    "# Root Mean Square Error\n",
    "rmse = np.sqrt(mean_squared_error(y_test,LR_y_test_pred))\n",
    "print(\"RMSE: %f\" % (rmse))\n",
    "\n",
    "# The Mean Squared Error\n",
    "print(\"Mean squared error: %.2f\"\n",
    "      % mean_squared_error(y_test,LR_y_test_pred))\n",
    "\n",
    "# R2 Score\n",
    "print('Variance score: %.2f' % r2_score(y_test,LR_y_test_pred))\n",
    "\n",
    "plt.scatter(y_test,LR_y_test_pred)"
   ]
  },
  {
   "cell_type": "code",
   "execution_count": 39,
   "id": "dff29a5a",
   "metadata": {},
   "outputs": [
    {
     "name": "stdout",
     "output_type": "stream",
     "text": [
      "Cross val score :  [0.90048818 0.89796103 0.89801647 0.8803965  0.88288822 0.89803196]\n"
     ]
    },
    {
     "ename": "NameError",
     "evalue": "name 'metrics' is not defined",
     "output_type": "error",
     "traceback": [
      "\u001b[0;31m---------------------------------------------------------------------------\u001b[0m",
      "\u001b[0;31mNameError\u001b[0m                                 Traceback (most recent call last)",
      "Cell \u001b[0;32mIn [39], line 8\u001b[0m\n\u001b[1;32m      5\u001b[0m predictions \u001b[38;5;241m=\u001b[39m cross_val_predict(lregr, dftrain, dftest, cv\u001b[38;5;241m=\u001b[39m\u001b[38;5;241m6\u001b[39m)\n\u001b[1;32m      6\u001b[0m plt\u001b[38;5;241m.\u001b[39mscatter(dftest, predictions)\n\u001b[0;32m----> 8\u001b[0m accuracy \u001b[38;5;241m=\u001b[39m \u001b[43mmetrics\u001b[49m\u001b[38;5;241m.\u001b[39mr2_score(dftest,predictions)\n\u001b[1;32m      9\u001b[0m \u001b[38;5;28mprint\u001b[39m (\u001b[38;5;124m\"\u001b[39m\u001b[38;5;124mCross-Predicted Accuracy:\u001b[39m\u001b[38;5;124m\"\u001b[39m, accuracy)\n",
      "\u001b[0;31mNameError\u001b[0m: name 'metrics' is not defined"
     ]
    },
    {
     "data": {
      "image/png": "[encoded data removed]",
      "text/plain": [
       "<Figure size 640x480 with 1 Axes>"
      ]
     },
     "metadata": {},
     "output_type": "display_data"
    }
   ],
   "source": [
    "score = cross_val_score(lregr, dftrain, dftest,cv=6)\n",
    "print('Cross val score : ',score)\n",
    "\n",
    "    \n",
    "predictions = cross_val_predict(lregr, dftrain, dftest, cv=6)\n",
    "plt.scatter(dftest, predictions)\n",
    "\n",
    "accuracy = metrics.r2_score(dftest,predictions)\n",
    "print (\"Cross-Predicted Accuracy:\", accuracy)"
   ]
  },
  {
   "cell_type": "code",
   "execution_count": 30,
   "id": "fa8ac59d",
   "metadata": {},
   "outputs": [
    {
     "data": {
      "text/plain": [
       "{'copy_X': True, 'fit_intercept': True, 'n_jobs': None, 'positive': False}"
      ]
     },
     "execution_count": 30,
     "metadata": {},
     "output_type": "execute_result"
    }
   ],
   "source": [
    "lregr.get_params()"
   ]
  },
  {
   "cell_type": "code",
   "execution_count": 22,
   "id": "af8470d1",
   "metadata": {},
   "outputs": [
    {
     "data": {
      "text/plain": [
       "19.55"
      ]
     },
     "execution_count": 22,
     "metadata": {},
     "output_type": "execute_result"
    }
   ],
   "source": [
    "dftest[10]"
   ]
  },
  {
   "cell_type": "code",
   "execution_count": null,
   "id": "a3c5cf2d",
   "metadata": {},
   "outputs": [],
   "source": []
  }
 ],
 "metadata": {
  "kernelspec": {
   "display_name": "Python 3 (ipykernel)",
   "language": "python",
   "name": "python3"
  },
  "language_info": {
   "codemirror_mode": {
    "name": "ipython",
    "version": 3
   },
   "file_extension": ".py",
   "mimetype": "text/x-python",
   "name": "python",
   "nbconvert_exporter": "python",
   "pygments_lexer": "ipython3",
   "version": "3.10.6"
  }
 },
 "nbformat": 4,
 "nbformat_minor": 5
}
