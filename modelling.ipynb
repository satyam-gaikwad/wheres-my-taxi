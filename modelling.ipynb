{
 "cells": [
  {
   "cell_type": "code",
   "execution_count": 1,
   "id": "7260a32e",
   "metadata": {},
   "outputs": [],
   "source": [
    "import pandas as pd\n",
    "import numpy as np\n",
    "import matplotlib.pyplot as  plt\n",
    "from datetime import timedelta\n",
    "import seaborn as sns"
   ]
  },
  {
   "cell_type": "code",
   "execution_count": 2,
   "id": "3ed2f39c",
   "metadata": {},
   "outputs": [],
   "source": [
    "from sklearn.preprocessing import StandardScaler,LabelEncoder\n",
    "from sklearn.linear_model import LinearRegression\n",
    "from sklearn.tree import DecisionTreeRegressor\n",
    "from sklearn.ensemble import RandomForestRegressor\n",
    "from sklearn.model_selection import train_test_split,cross_val_predict,cross_val_score\n",
    "\n",
    "from sklearn.metrics import r2_score,mean_squared_error\n",
    "\n"
   ]
  },
  {
   "cell_type": "code",
   "execution_count": null,
   "id": "71ba8a48",
   "metadata": {},
   "outputs": [
    {
     "name": "stdout",
     "output_type": "stream",
     "text": [
      "Defaulting to user installation because normal site-packages is not writeable\n",
      "Collecting xgboost\n",
      "  Downloading xgboost-1.7.6-py3-none-manylinux2014_x86_64.whl (200.3 MB)\n",
      "\u001b[2K     \u001b[38;2;249;38;114m━\u001b[0m\u001b[38;5;237m╺\u001b[0m\u001b[38;5;237m━━━━━━━━━━━━━━━━━━━━━━━━━━━━━━━━━━━━━━\u001b[0m \u001b[32m6.5/200.3 MB\u001b[0m \u001b[31m67.5 kB/s\u001b[0m eta \u001b[36m0:47:53\u001b[0m"
     ]
    }
   ],
   "source": [
    "!pip install xgboost"
   ]
  },
  {
   "cell_type": "code",
   "execution_count": 3,
   "id": "dffc8530",
   "metadata": {},
   "outputs": [],
   "source": [
    "df = pd.read_pickle('pickled_parquet_1.pkl')"
   ]
  },
  {
   "cell_type": "code",
   "execution_count": 4,
   "id": "a96e9f88",
   "metadata": {},
   "outputs": [
    {
     "data": {
      "text/plain": [
       "Index(['VendorID', 'tpep_pickup_datetime', 'tpep_dropoff_datetime',\n",
       "       'passenger_count', 'trip_distance', 'RatecodeID', 'store_and_fwd_flag',\n",
       "       'PULocationID', 'DOLocationID', 'payment_type', 'fare_amount',\n",
       "       'total_amount', 'total_sec', 'duration', 'PUmonth', 'DOmonth', 'PUday',\n",
       "       'DOday', 'PUhour', 'DOhour', 'PUtime', 'DOtime', 'PUZone', 'DOZone'],\n",
       "      dtype='object')"
      ]
     },
     "execution_count": 4,
     "metadata": {},
     "output_type": "execute_result"
    }
   ],
   "source": [
    "df.columns\n"
   ]
  },
  {
   "cell_type": "code",
   "execution_count": 4,
   "id": "df796e80",
   "metadata": {},
   "outputs": [],
   "source": [
    "le=LabelEncoder()\n",
    "df['PUday'] = le.fit_transform(df['PUday'])"
   ]
  },
  {
   "cell_type": "code",
   "execution_count": null,
   "id": "4cc287e2",
   "metadata": {},
   "outputs": [],
   "source": []
  },
  {
   "cell_type": "raw",
   "id": "6e3df401",
   "metadata": {},
   "source": [
    "TASK 8: PREDICTION MODELS\n",
    "\n",
    "● I have used 3 Error Metrics to evaluate my models.\n",
    "\n",
    "○ Root Mean Square Error (RMSE)\n",
    "○ Mean Squared Error (MSE)\n",
    "○ R2 Score\n",
    "\n",
    "● And the goal is to try to maximize R2 score (1 being the best) while minimizing RMSE and MSE along with ensuring that the model does not overfit.\n",
    "\n",
    "● I have tried the following Machine Learning Models:\n",
    "\n",
    "○ Linear Regressor\n",
    "○ Decision Trees\n",
    "○ Random Forest Regressor\n",
    "○ XGB Regressor (without any Hyperparameter Tuning) and\n",
    "○ XGB with Hyperparameters\n",
    "\n",
    "● Among all the above, XGB with Hyperparameters worked the best providing a score of 3.17502 on the Test data. (which is a very high improvement on the Linear Model that was done initially which got a score of 5.60765)\n",
    "\n",
    "● Also, I tried splitting the data in different proportions to obtain the Train and Validation set and a split of 2/3rd Train and 1/3rd Validation Set along with XGB with Hyperparameters worked the best.\n"
   ]
  },
  {
   "cell_type": "code",
   "execution_count": 6,
   "id": "c16a42cd",
   "metadata": {},
   "outputs": [
    {
     "data": {
      "text/plain": [
       "Index(['VendorID', 'tpep_pickup_datetime', 'tpep_dropoff_datetime',\n",
       "       'passenger_count', 'trip_distance', 'RatecodeID', 'store_and_fwd_flag',\n",
       "       'PULocationID', 'DOLocationID', 'payment_type', 'fare_amount',\n",
       "       'total_amount', 'total_sec', 'duration', 'PUmonth', 'DOmonth', 'PUday',\n",
       "       'DOday', 'PUhour', 'DOhour', 'PUtime', 'DOtime', 'PUZone', 'DOZone'],\n",
       "      dtype='object')"
      ]
     },
     "execution_count": 6,
     "metadata": {},
     "output_type": "execute_result"
    }
   ],
   "source": [
    "df.columns"
   ]
  },
  {
   "cell_type": "code",
   "execution_count": 5,
   "id": "0011a9e8",
   "metadata": {},
   "outputs": [],
   "source": [
    "dftrain = df[['passenger_count','trip_distance','RatecodeID','PULocationID','DOLocationID','total_sec','PUhour','PUday']]"
   ]
  },
  {
   "cell_type": "code",
   "execution_count": 6,
   "id": "fc34e84b",
   "metadata": {},
   "outputs": [],
   "source": [
    "dftest = df['total_amount']"
   ]
  },
  {
   "cell_type": "code",
   "execution_count": 7,
   "id": "9fee5535",
   "metadata": {},
   "outputs": [],
   "source": [
    "x_train,x_test,y_train,y_test = train_test_split(dftrain,dftest,test_size=0.3)"
   ]
  },
  {
   "cell_type": "code",
   "execution_count": 9,
   "id": "78adc763",
   "metadata": {},
   "outputs": [
    {
     "name": "stdout",
     "output_type": "stream",
     "text": [
      "RMSE: 4.417673\n",
      "Mean squared error: 19.52\n",
      "Variance score: 0.89\n"
     ]
    },
    {
     "data": {
      "text/plain": [
       "<matplotlib.collections.PathCollection at 0x7f140b949390>"
      ]
     },
     "execution_count": 9,
     "metadata": {},
     "output_type": "execute_result"
    },
    {
     "data": {
      "image/png": "[encoded data removed]",
      "text/plain": [
       "<Figure size 640x480 with 1 Axes>"
      ]
     },
     "metadata": {},
     "output_type": "display_data"
    }
   ],
   "source": [
    "#LINEAR REGRESSION\n",
    "\n",
    "lregr = LinearRegression()\n",
    "lregr.fit(x_train,y_train)\n",
    "LR_y_test_pred = lregr.predict(x_test)\n",
    "\n",
    "\n",
    "# ERROR METRICS\n",
    "\n",
    "# Root Mean Square Error\n",
    "rmse = np.sqrt(mean_squared_error(y_test,LR_y_test_pred))\n",
    "print(\"RMSE: %f\" % (rmse))\n",
    "\n",
    "# The Mean Squared Error\n",
    "print(\"Mean squared error: %.2f\"\n",
    "      % mean_squared_error(y_test,LR_y_test_pred))\n",
    "\n",
    "# R2 Score\n",
    "print('Variance score: %.2f' % r2_score(y_test,LR_y_test_pred))\n",
    "\n",
    "plt.scatter(y_test,LR_y_test_pred)"
   ]
  },
  {
   "cell_type": "code",
   "execution_count": 10,
   "id": "dff29a5a",
   "metadata": {},
   "outputs": [
    {
     "name": "stdout",
     "output_type": "stream",
     "text": [
      "Cross val score :  [0.90048818 0.89796103 0.89801647 0.8803965  0.88288822 0.89803196]\n",
      "Cross-Predicted Accuracy: 0.8932144973506406\n"
     ]
    },
    {
     "data": {
      "image/png": "[encoded data removed]",
      "text/plain": [
       "<Figure size 640x480 with 1 Axes>"
      ]
     },
     "metadata": {},
     "output_type": "display_data"
    }
   ],
   "source": [
    "score = cross_val_score(lregr, dftrain, dftest,cv=6)\n",
    "print('Cross val score : ',score)\n",
    "\n",
    "    \n",
    "predictions = cross_val_predict(lregr, dftrain, dftest, cv=6)\n",
    "plt.scatter(dftest, predictions)\n",
    "\n",
    "accuracy = r2_score(dftest,predictions)\n",
    "print (\"Cross-Predicted Accuracy:\", accuracy)"
   ]
  },
  {
   "cell_type": "markdown",
   "id": "3f0af922",
   "metadata": {},
   "source": [
    "## Decision Tree Regression\n"
   ]
  },
  {
   "cell_type": "code",
   "execution_count": 11,
   "id": "af8470d1",
   "metadata": {},
   "outputs": [
    {
     "name": "stdout",
     "output_type": "stream",
     "text": [
      "RMSE: 3.753000\n",
      "Mean squared error: 14.09\n",
      "Variance score: 0.92\n"
     ]
    },
    {
     "data": {
      "text/plain": [
       "<matplotlib.collections.PathCollection at 0x7f141a7c1e40>"
      ]
     },
     "execution_count": 11,
     "metadata": {},
     "output_type": "execute_result"
    },
    {
     "data": {
      "image/png": "[encoded data removed]",
      "text/plain": [
       "<Figure size 640x480 with 1 Axes>"
      ]
     },
     "metadata": {},
     "output_type": "display_data"
    }
   ],
   "source": [
    "# TRAINING USING DECISION TREE REGRESSOR MODEL\n",
    "\n",
    "dtr = DecisionTreeRegressor().fit(x_train,y_train)\n",
    "DTR_y_test_pred = dtr.predict(x_test)\n",
    "\n",
    "# Error Metrics\n",
    "\n",
    "# Root Mean Square Error\n",
    "rmse = np.sqrt(mean_squared_error(y_test,DTR_y_test_pred))\n",
    "print(\"RMSE: %f\" % (rmse))\n",
    "\n",
    "# Mean Squared Error\n",
    "print(\"Mean squared error: %.2f\"\n",
    "      % mean_squared_error(y_test,DTR_y_test_pred))\n",
    "\n",
    "# R2 Score\n",
    "print('Variance score: %.2f' % r2_score(y_test,DTR_y_test_pred))\n",
    "plt.scatter(y_test,DTR_y_test_pred)"
   ]
  },
  {
   "cell_type": "markdown",
   "id": "ccbded74",
   "metadata": {},
   "source": [
    "## Random Forest Regression"
   ]
  },
  {
   "cell_type": "code",
   "execution_count": null,
   "id": "910656ae",
   "metadata": {},
   "outputs": [],
   "source": [
    "# TRAINING USING DECISION TREE REGRESSOR MODEL\n",
    "\n",
    "RF = RandomForestRegressor()\n",
    "RF.fit(x_train,y_train)"
   ]
  },
  {
   "cell_type": "code",
   "execution_count": null,
   "id": "4aba915a",
   "metadata": {},
   "outputs": [],
   "source": [
    "RF_y_test_pred = RF.predict(x_test)"
   ]
  },
  {
   "cell_type": "code",
   "execution_count": 11,
   "id": "04beca36",
   "metadata": {},
   "outputs": [
    {
     "name": "stderr",
     "output_type": "stream",
     "text": [
      "\n",
      "KeyboardInterrupt\n",
      "\n"
     ]
    }
   ],
   "source": [
    "# Error Metrics\n",
    "\n",
    "# Root Mean Square Error\n",
    "rmse = np.sqrt(mean_squared_error(y_test,RF_y_test_pred))\n",
    "print(\"RMSE: %f\" % (rmse))\n",
    "\n",
    "# Mean Squared Error\n",
    "print(\"Mean squared error: %.2f\"\n",
    "      % mean_squared_error(y_test,RF_y_test_pred))\n",
    "\n",
    "# R2 Score\n",
    "print('Variance score: %.2f' % r2_score(y_test,RF_y_test_pred))\n",
    "plt.scatter(y_test,RF_y_test_pred)"
   ]
  },
  {
   "cell_type": "code",
   "execution_count": null,
   "id": "1c1ab8af",
   "metadata": {},
   "outputs": [],
   "source": []
  }
 ],
 "metadata": {
  "kernelspec": {
   "display_name": "Python 3 (ipykernel)",
   "language": "python",
   "name": "python3"
  },
  "language_info": {
   "codemirror_mode": {
    "name": "ipython",
    "version": 3
   },
   "file_extension": ".py",
   "mimetype": "text/x-python",
   "name": "python",
   "nbconvert_exporter": "python",
   "pygments_lexer": "ipython3",
   "version": "3.10.6"
  }
 },
 "nbformat": 4,
 "nbformat_minor": 5
}
