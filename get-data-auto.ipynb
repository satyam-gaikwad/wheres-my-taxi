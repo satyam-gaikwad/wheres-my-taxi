{
 "cells": [
  {
   "cell_type": "code",
   "execution_count": 12,
   "metadata": {},
   "outputs": [],
   "source": [
    "import requests\n",
    "import os\n",
    "from bs4 import BeautifulSoup"
   ]
  },
  {
   "cell_type": "code",
   "execution_count": 3,
   "metadata": {},
   "outputs": [],
   "source": [
    "data_url = \"https://www1.nyc.gov/site/tlc/about/tlc-trip-record-data.page\"\n",
    "req = requests.get(data_url)\n",
    "soup = BeautifulSoup(req.text, 'html.parser')\n",
    "k = soup.find(id='faq2019')\n",
    "path = \"C:\\\\Users\\hp\\Desktop\\DS-ML\""
   ]
  },
  {
   "cell_type": "code",
   "execution_count": 20,
   "metadata": {},
   "outputs": [],
   "source": [
    "def download(temp_url):\n",
    "    #req = requests.get(temp_url)\n",
    "    file_name = os.path.join(path,temp_url.split('/')[-1])\n",
    "    if os.path.isfile(file_name) == False:    \n",
    "        #file = open(file_name, 'wb')\n",
    "        #for chunk in req.iter_content(100000):\n",
    "        #    file.write(chunk)  \n",
    "        #file.close()\n",
    "        print(file_name)\n",
    "        \n",
    "    #return print(file_name)"
   ]
  },
  {
   "cell_type": "code",
   "execution_count": 41,
   "metadata": {},
   "outputs": [],
   "source": [
    "for link in k.find_all('a',attrs={\"title\":\"Yellow Taxi Trip Records\"}):\n",
    "    temp_url = (link.get('href'))\n",
    "    download(temp_url)"
   ]
  },
  {
   "cell_type": "code",
   "execution_count": null,
   "metadata": {},
   "outputs": [],
   "source": []
  }
 ],
 "metadata": {
  "kernelspec": {
   "display_name": "Python 3",
   "language": "python",
   "name": "python3"
  },
  "language_info": {
   "codemirror_mode": {
    "name": "ipython",
    "version": 3
   },
   "file_extension": ".py",
   "mimetype": "text/x-python",
   "name": "python",
   "nbconvert_exporter": "python",
   "pygments_lexer": "ipython3",
   "version": "3.8.3"
  }
 },
 "nbformat": 4,
 "nbformat_minor": 4
}
