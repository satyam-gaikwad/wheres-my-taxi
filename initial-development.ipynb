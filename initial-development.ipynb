{
 "cells": [
  {
   "cell_type": "code",
   "execution_count": 2,
   "metadata": {},
   "outputs": [],
   "source": [
    "import pandas as pd\n",
    "import numpy as np"
   ]
  },
  {
   "cell_type": "code",
   "execution_count": null,
   "metadata": {},
   "outputs": [],
   "source": [
    "#df = pd.read_parquet(\"C:\\\\Users\\hp\\Desktop\\DS-ML\\yellow_tripdata_2019-01.parquet\")"
   ]
  },
  {
   "cell_type": "code",
   "execution_count": null,
   "metadata": {
    "scrolled": true
   },
   "outputs": [],
   "source": [
    "#df.to_pickle('C:\\\\Users\\hp\\pickled_parquet_1.pkl')"
   ]
  },
  {
   "cell_type": "code",
   "execution_count": 3,
   "metadata": {},
   "outputs": [],
   "source": [
    "df = pd.read_pickle('C:\\\\Users\\hp\\pickled_parquet_1.pkl')"
   ]
  },
  {
   "cell_type": "code",
   "execution_count": 63,
   "metadata": {
    "scrolled": true
   },
   "outputs": [
    {
     "data": {
      "text/plain": [
       "['VendorID',\n",
       " 'tpep_pickup_datetime',\n",
       " 'tpep_dropoff_datetime',\n",
       " 'passenger_count',\n",
       " 'trip_distance',\n",
       " 'RatecodeID',\n",
       " 'store_and_fwd_flag',\n",
       " 'PULocationID',\n",
       " 'DOLocationID',\n",
       " 'payment_type',\n",
       " 'fare_amount',\n",
       " 'extra',\n",
       " 'mta_tax',\n",
       " 'tip_amount',\n",
       " 'tolls_amount',\n",
       " 'improvement_surcharge',\n",
       " 'total_amount',\n",
       " 'congestion_surcharge',\n",
       " 'airport_fee',\n",
       " 'duration']"
      ]
     },
     "execution_count": 63,
     "metadata": {},
     "output_type": "execute_result"
    }
   ],
   "source": [
    "list(df)"
   ]
  },
  {
   "cell_type": "code",
   "execution_count": 12,
   "metadata": {},
   "outputs": [
    {
     "data": {
      "text/html": [
       "<div>\n",
       "<style scoped>\n",
       "    .dataframe tbody tr th:only-of-type {\n",
       "        vertical-align: middle;\n",
       "    }\n",
       "\n",
       "    .dataframe tbody tr th {\n",
       "        vertical-align: top;\n",
       "    }\n",
       "\n",
       "    .dataframe thead th {\n",
       "        text-align: right;\n",
       "    }\n",
       "</style>\n",
       "<table border=\"1\" class=\"dataframe\">\n",
       "  <thead>\n",
       "    <tr style=\"text-align: right;\">\n",
       "      <th></th>\n",
       "      <th>VendorID</th>\n",
       "      <th>passenger_count</th>\n",
       "      <th>trip_distance</th>\n",
       "      <th>RatecodeID</th>\n",
       "      <th>PULocationID</th>\n",
       "      <th>DOLocationID</th>\n",
       "      <th>payment_type</th>\n",
       "      <th>fare_amount</th>\n",
       "      <th>extra</th>\n",
       "      <th>mta_tax</th>\n",
       "      <th>tip_amount</th>\n",
       "      <th>tolls_amount</th>\n",
       "      <th>improvement_surcharge</th>\n",
       "      <th>total_amount</th>\n",
       "      <th>congestion_surcharge</th>\n",
       "      <th>airport_fee</th>\n",
       "      <th>duration</th>\n",
       "    </tr>\n",
       "  </thead>\n",
       "  <tbody>\n",
       "    <tr>\n",
       "      <th>count</th>\n",
       "      <td>7.696617e+06</td>\n",
       "      <td>7.667945e+06</td>\n",
       "      <td>7.696617e+06</td>\n",
       "      <td>7.667945e+06</td>\n",
       "      <td>7.696617e+06</td>\n",
       "      <td>7.696617e+06</td>\n",
       "      <td>7.696617e+06</td>\n",
       "      <td>7.696617e+06</td>\n",
       "      <td>7.696617e+06</td>\n",
       "      <td>7.696617e+06</td>\n",
       "      <td>7.696617e+06</td>\n",
       "      <td>7.696617e+06</td>\n",
       "      <td>7.696617e+06</td>\n",
       "      <td>7.696617e+06</td>\n",
       "      <td>2.811730e+06</td>\n",
       "      <td>0.0</td>\n",
       "      <td>7.696617e+06</td>\n",
       "    </tr>\n",
       "    <tr>\n",
       "      <th>mean</th>\n",
       "      <td>1.638174e+00</td>\n",
       "      <td>1.567032e+00</td>\n",
       "      <td>2.830146e+00</td>\n",
       "      <td>1.058371e+00</td>\n",
       "      <td>1.654005e+02</td>\n",
       "      <td>1.636289e+02</td>\n",
       "      <td>1.286947e+00</td>\n",
       "      <td>1.252968e+01</td>\n",
       "      <td>3.374054e-01</td>\n",
       "      <td>4.964963e-01</td>\n",
       "      <td>1.820830e+00</td>\n",
       "      <td>3.229543e-01</td>\n",
       "      <td>2.993410e-01</td>\n",
       "      <td>1.581065e+01</td>\n",
       "      <td>3.289790e-05</td>\n",
       "      <td>NaN</td>\n",
       "      <td>9.930649e+02</td>\n",
       "    </tr>\n",
       "    <tr>\n",
       "      <th>std</th>\n",
       "      <td>5.393984e-01</td>\n",
       "      <td>1.224420e+00</td>\n",
       "      <td>3.774548e+00</td>\n",
       "      <td>6.780839e-01</td>\n",
       "      <td>6.643992e+01</td>\n",
       "      <td>7.040929e+01</td>\n",
       "      <td>4.789416e-01</td>\n",
       "      <td>2.615897e+02</td>\n",
       "      <td>5.313564e-01</td>\n",
       "      <td>5.492382e-02</td>\n",
       "      <td>2.499463e+00</td>\n",
       "      <td>2.029812e+00</td>\n",
       "      <td>1.907704e-02</td>\n",
       "      <td>2.618117e+02</td>\n",
       "      <td>9.068830e-03</td>\n",
       "      <td>NaN</td>\n",
       "      <td>4.900524e+03</td>\n",
       "    </tr>\n",
       "    <tr>\n",
       "      <th>min</th>\n",
       "      <td>1.000000e+00</td>\n",
       "      <td>0.000000e+00</td>\n",
       "      <td>0.000000e+00</td>\n",
       "      <td>1.000000e+00</td>\n",
       "      <td>1.000000e+00</td>\n",
       "      <td>1.000000e+00</td>\n",
       "      <td>0.000000e+00</td>\n",
       "      <td>-3.620000e+02</td>\n",
       "      <td>-6.000000e+01</td>\n",
       "      <td>-5.000000e-01</td>\n",
       "      <td>-6.350000e+01</td>\n",
       "      <td>-7.000000e+01</td>\n",
       "      <td>-3.000000e-01</td>\n",
       "      <td>-3.628000e+02</td>\n",
       "      <td>0.000000e+00</td>\n",
       "      <td>NaN</td>\n",
       "      <td>-5.056830e+06</td>\n",
       "    </tr>\n",
       "    <tr>\n",
       "      <th>25%</th>\n",
       "      <td>1.000000e+00</td>\n",
       "      <td>1.000000e+00</td>\n",
       "      <td>9.000000e-01</td>\n",
       "      <td>1.000000e+00</td>\n",
       "      <td>1.270000e+02</td>\n",
       "      <td>1.130000e+02</td>\n",
       "      <td>1.000000e+00</td>\n",
       "      <td>6.000000e+00</td>\n",
       "      <td>0.000000e+00</td>\n",
       "      <td>5.000000e-01</td>\n",
       "      <td>0.000000e+00</td>\n",
       "      <td>0.000000e+00</td>\n",
       "      <td>3.000000e-01</td>\n",
       "      <td>8.300000e+00</td>\n",
       "      <td>0.000000e+00</td>\n",
       "      <td>NaN</td>\n",
       "      <td>3.660000e+02</td>\n",
       "    </tr>\n",
       "    <tr>\n",
       "      <th>50%</th>\n",
       "      <td>2.000000e+00</td>\n",
       "      <td>1.000000e+00</td>\n",
       "      <td>1.530000e+00</td>\n",
       "      <td>1.000000e+00</td>\n",
       "      <td>1.620000e+02</td>\n",
       "      <td>1.620000e+02</td>\n",
       "      <td>1.000000e+00</td>\n",
       "      <td>9.000000e+00</td>\n",
       "      <td>0.000000e+00</td>\n",
       "      <td>5.000000e-01</td>\n",
       "      <td>1.400000e+00</td>\n",
       "      <td>0.000000e+00</td>\n",
       "      <td>3.000000e-01</td>\n",
       "      <td>1.130000e+01</td>\n",
       "      <td>0.000000e+00</td>\n",
       "      <td>NaN</td>\n",
       "      <td>6.110000e+02</td>\n",
       "    </tr>\n",
       "    <tr>\n",
       "      <th>75%</th>\n",
       "      <td>2.000000e+00</td>\n",
       "      <td>2.000000e+00</td>\n",
       "      <td>2.830000e+00</td>\n",
       "      <td>1.000000e+00</td>\n",
       "      <td>2.340000e+02</td>\n",
       "      <td>2.340000e+02</td>\n",
       "      <td>2.000000e+00</td>\n",
       "      <td>1.350000e+01</td>\n",
       "      <td>5.000000e-01</td>\n",
       "      <td>5.000000e-01</td>\n",
       "      <td>2.320000e+00</td>\n",
       "      <td>0.000000e+00</td>\n",
       "      <td>3.000000e-01</td>\n",
       "      <td>1.660000e+01</td>\n",
       "      <td>0.000000e+00</td>\n",
       "      <td>NaN</td>\n",
       "      <td>9.990000e+02</td>\n",
       "    </tr>\n",
       "    <tr>\n",
       "      <th>max</th>\n",
       "      <td>5.000000e+00</td>\n",
       "      <td>9.000000e+00</td>\n",
       "      <td>8.318000e+02</td>\n",
       "      <td>9.900000e+01</td>\n",
       "      <td>2.650000e+02</td>\n",
       "      <td>2.650000e+02</td>\n",
       "      <td>4.000000e+00</td>\n",
       "      <td>6.232599e+05</td>\n",
       "      <td>5.353800e+02</td>\n",
       "      <td>6.080000e+01</td>\n",
       "      <td>7.872500e+02</td>\n",
       "      <td>3.288000e+03</td>\n",
       "      <td>6.000000e-01</td>\n",
       "      <td>6.232617e+05</td>\n",
       "      <td>2.500000e+00</td>\n",
       "      <td>NaN</td>\n",
       "      <td>2.618881e+06</td>\n",
       "    </tr>\n",
       "  </tbody>\n",
       "</table>\n",
       "</div>"
      ],
      "text/plain": [
       "           VendorID  passenger_count  trip_distance    RatecodeID  \\\n",
       "count  7.696617e+06     7.667945e+06   7.696617e+06  7.667945e+06   \n",
       "mean   1.638174e+00     1.567032e+00   2.830146e+00  1.058371e+00   \n",
       "std    5.393984e-01     1.224420e+00   3.774548e+00  6.780839e-01   \n",
       "min    1.000000e+00     0.000000e+00   0.000000e+00  1.000000e+00   \n",
       "25%    1.000000e+00     1.000000e+00   9.000000e-01  1.000000e+00   \n",
       "50%    2.000000e+00     1.000000e+00   1.530000e+00  1.000000e+00   \n",
       "75%    2.000000e+00     2.000000e+00   2.830000e+00  1.000000e+00   \n",
       "max    5.000000e+00     9.000000e+00   8.318000e+02  9.900000e+01   \n",
       "\n",
       "       PULocationID  DOLocationID  payment_type   fare_amount         extra  \\\n",
       "count  7.696617e+06  7.696617e+06  7.696617e+06  7.696617e+06  7.696617e+06   \n",
       "mean   1.654005e+02  1.636289e+02  1.286947e+00  1.252968e+01  3.374054e-01   \n",
       "std    6.643992e+01  7.040929e+01  4.789416e-01  2.615897e+02  5.313564e-01   \n",
       "min    1.000000e+00  1.000000e+00  0.000000e+00 -3.620000e+02 -6.000000e+01   \n",
       "25%    1.270000e+02  1.130000e+02  1.000000e+00  6.000000e+00  0.000000e+00   \n",
       "50%    1.620000e+02  1.620000e+02  1.000000e+00  9.000000e+00  0.000000e+00   \n",
       "75%    2.340000e+02  2.340000e+02  2.000000e+00  1.350000e+01  5.000000e-01   \n",
       "max    2.650000e+02  2.650000e+02  4.000000e+00  6.232599e+05  5.353800e+02   \n",
       "\n",
       "            mta_tax    tip_amount  tolls_amount  improvement_surcharge  \\\n",
       "count  7.696617e+06  7.696617e+06  7.696617e+06           7.696617e+06   \n",
       "mean   4.964963e-01  1.820830e+00  3.229543e-01           2.993410e-01   \n",
       "std    5.492382e-02  2.499463e+00  2.029812e+00           1.907704e-02   \n",
       "min   -5.000000e-01 -6.350000e+01 -7.000000e+01          -3.000000e-01   \n",
       "25%    5.000000e-01  0.000000e+00  0.000000e+00           3.000000e-01   \n",
       "50%    5.000000e-01  1.400000e+00  0.000000e+00           3.000000e-01   \n",
       "75%    5.000000e-01  2.320000e+00  0.000000e+00           3.000000e-01   \n",
       "max    6.080000e+01  7.872500e+02  3.288000e+03           6.000000e-01   \n",
       "\n",
       "       total_amount  congestion_surcharge  airport_fee      duration  \n",
       "count  7.696617e+06          2.811730e+06          0.0  7.696617e+06  \n",
       "mean   1.581065e+01          3.289790e-05          NaN  9.930649e+02  \n",
       "std    2.618117e+02          9.068830e-03          NaN  4.900524e+03  \n",
       "min   -3.628000e+02          0.000000e+00          NaN -5.056830e+06  \n",
       "25%    8.300000e+00          0.000000e+00          NaN  3.660000e+02  \n",
       "50%    1.130000e+01          0.000000e+00          NaN  6.110000e+02  \n",
       "75%    1.660000e+01          0.000000e+00          NaN  9.990000e+02  \n",
       "max    6.232617e+05          2.500000e+00          NaN  2.618881e+06  "
      ]
     },
     "execution_count": 12,
     "metadata": {},
     "output_type": "execute_result"
    }
   ],
   "source": [
    "df.describe()"
   ]
  },
  {
   "cell_type": "code",
   "execution_count": 64,
   "metadata": {},
   "outputs": [],
   "source": [
    "df['duration'] = (df['tpep_dropoff_datetime']-df['tpep_pickup_datetime']).dt.total_seconds()"
   ]
  },
  {
   "cell_type": "code",
   "execution_count": 65,
   "metadata": {},
   "outputs": [],
   "source": [
    "df['PU_day'] = df.tpep_pickup_datetime.dt.day_name()\n",
    "df['DO_day'] = df.tpep_dropoff_datetime.dt.day_name()"
   ]
  },
  {
   "cell_type": "code",
   "execution_count": 66,
   "metadata": {},
   "outputs": [],
   "source": [
    "df1 = df.drop(df[((df.PULocationID>263) | (df.PULocationID<1) | (df.DOLocationID>263) | (df.DOLocationID<1) | (df.tpep_pickup_datetime.dt.year!=2019) | (df.trip_distance==0) | (df.fare_amount<=0) | (df.total_amount<=0) | (df.duration<0))].index)"
   ]
  },
  {
   "cell_type": "code",
   "execution_count": 67,
   "metadata": {},
   "outputs": [],
   "source": [
    "df1.passenger_count = df1.passenger_count.fillna(1)"
   ]
  },
  {
   "cell_type": "code",
   "execution_count": 68,
   "metadata": {},
   "outputs": [
    {
     "data": {
      "text/html": [
       "<div>\n",
       "<style scoped>\n",
       "    .dataframe tbody tr th:only-of-type {\n",
       "        vertical-align: middle;\n",
       "    }\n",
       "\n",
       "    .dataframe tbody tr th {\n",
       "        vertical-align: top;\n",
       "    }\n",
       "\n",
       "    .dataframe thead th {\n",
       "        text-align: right;\n",
       "    }\n",
       "</style>\n",
       "<table border=\"1\" class=\"dataframe\">\n",
       "  <thead>\n",
       "    <tr style=\"text-align: right;\">\n",
       "      <th></th>\n",
       "      <th>payment_type</th>\n",
       "      <th>fare_amount</th>\n",
       "    </tr>\n",
       "  </thead>\n",
       "  <tbody>\n",
       "    <tr>\n",
       "      <th>176</th>\n",
       "      <td>3</td>\n",
       "      <td>4.0</td>\n",
       "    </tr>\n",
       "    <tr>\n",
       "      <th>214</th>\n",
       "      <td>3</td>\n",
       "      <td>8.0</td>\n",
       "    </tr>\n",
       "    <tr>\n",
       "      <th>371</th>\n",
       "      <td>3</td>\n",
       "      <td>5.0</td>\n",
       "    </tr>\n",
       "    <tr>\n",
       "      <th>389</th>\n",
       "      <td>3</td>\n",
       "      <td>7.0</td>\n",
       "    </tr>\n",
       "    <tr>\n",
       "      <th>475</th>\n",
       "      <td>3</td>\n",
       "      <td>42.5</td>\n",
       "    </tr>\n",
       "    <tr>\n",
       "      <th>...</th>\n",
       "      <td>...</td>\n",
       "      <td>...</td>\n",
       "    </tr>\n",
       "    <tr>\n",
       "      <th>7666490</th>\n",
       "      <td>3</td>\n",
       "      <td>5.0</td>\n",
       "    </tr>\n",
       "    <tr>\n",
       "      <th>7666891</th>\n",
       "      <td>3</td>\n",
       "      <td>4.5</td>\n",
       "    </tr>\n",
       "    <tr>\n",
       "      <th>7666995</th>\n",
       "      <td>3</td>\n",
       "      <td>2.5</td>\n",
       "    </tr>\n",
       "    <tr>\n",
       "      <th>7667324</th>\n",
       "      <td>3</td>\n",
       "      <td>10.5</td>\n",
       "    </tr>\n",
       "    <tr>\n",
       "      <th>7667867</th>\n",
       "      <td>3</td>\n",
       "      <td>2.5</td>\n",
       "    </tr>\n",
       "  </tbody>\n",
       "</table>\n",
       "<p>22815 rows × 2 columns</p>\n",
       "</div>"
      ],
      "text/plain": [
       "         payment_type  fare_amount\n",
       "176                 3          4.0\n",
       "214                 3          8.0\n",
       "371                 3          5.0\n",
       "389                 3          7.0\n",
       "475                 3         42.5\n",
       "...               ...          ...\n",
       "7666490             3          5.0\n",
       "7666891             3          4.5\n",
       "7666995             3          2.5\n",
       "7667324             3         10.5\n",
       "7667867             3          2.5\n",
       "\n",
       "[22815 rows x 2 columns]"
      ]
     },
     "execution_count": 68,
     "metadata": {},
     "output_type": "execute_result"
    }
   ],
   "source": [
    "df1.loc[(df1.payment_type == 3),['payment_type', 'fare_amount']]"
   ]
  },
  {
   "cell_type": "code",
   "execution_count": 32,
   "metadata": {},
   "outputs": [
    {
     "data": {
      "text/plain": [
       "Thursday     1316531\n",
       "Wednesday    1228477\n",
       "Tuesday      1173198\n",
       "Friday       1056131\n",
       "Saturday      981165\n",
       "Monday        877790\n",
       "Sunday        835154\n",
       "Name: PU_day, dtype: int64"
      ]
     },
     "execution_count": 32,
     "metadata": {},
     "output_type": "execute_result"
    }
   ],
   "source": [
    "df1.PU_day.value_counts()"
   ]
  },
  {
   "cell_type": "code",
   "execution_count": 61,
   "metadata": {},
   "outputs": [
    {
     "data": {
      "text/plain": [
       "True"
      ]
     },
     "execution_count": 61,
     "metadata": {},
     "output_type": "execute_result"
    }
   ],
   "source": [
    "any((df.duration<0))"
   ]
  },
  {
   "cell_type": "code",
   "execution_count": null,
   "metadata": {},
   "outputs": [],
   "source": []
  }
 ],
 "metadata": {
  "kernelspec": {
   "display_name": "Python 3",
   "language": "python",
   "name": "python3"
  },
  "language_info": {
   "codemirror_mode": {
    "name": "ipython",
    "version": 3
   },
   "file_extension": ".py",
   "mimetype": "text/x-python",
   "name": "python",
   "nbconvert_exporter": "python",
   "pygments_lexer": "ipython3",
   "version": "3.8.3"
  }
 },
 "nbformat": 4,
 "nbformat_minor": 4
}
