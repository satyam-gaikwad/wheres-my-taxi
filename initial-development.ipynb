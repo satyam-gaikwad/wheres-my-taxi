{
 "cells": [
  {
   "cell_type": "code",
   "execution_count": 1,
   "metadata": {},
   "outputs": [],
   "source": [
    "import pandas as pd\n",
    "import numpy as np\n",
    "from datetime import timedelta"
   ]
  },
  {
   "cell_type": "code",
   "execution_count": 2,
   "metadata": {},
   "outputs": [],
   "source": [
    "#read parquet files\n",
    "\n",
    "df = pd.read_parquet(\"/home/user/Desktop/wheres-my-taxi/wheres-my-taxi/2019_data/yellow_tripdata_2019-01.parquet\")"
   ]
  },
  {
   "cell_type": "code",
   "execution_count": 3,
   "metadata": {
    "scrolled": true
   },
   "outputs": [],
   "source": [
    "#df.to_pickle('C:\\\\Users\\hp\\pickled_parquet_1.pkl')"
   ]
  },
  {
   "cell_type": "code",
   "execution_count": 4,
   "metadata": {},
   "outputs": [],
   "source": [
    "#df = pd.read_pickle('C:\\\\Users\\hp\\pickled_parquet_1.pkl')"
   ]
  },
  {
   "cell_type": "code",
   "execution_count": 5,
   "metadata": {},
   "outputs": [
    {
     "data": {
      "text/plain": [
       "(7696617, 19)"
      ]
     },
     "execution_count": 5,
     "metadata": {},
     "output_type": "execute_result"
    }
   ],
   "source": [
    "df.shape"
   ]
  },
  {
   "cell_type": "code",
   "execution_count": 6,
   "metadata": {},
   "outputs": [
    {
     "data": {
      "text/plain": [
       "Index(['VendorID', 'tpep_pickup_datetime', 'tpep_dropoff_datetime',\n",
       "       'passenger_count', 'trip_distance', 'RatecodeID', 'store_and_fwd_flag',\n",
       "       'PULocationID', 'DOLocationID', 'payment_type', 'fare_amount', 'extra',\n",
       "       'mta_tax', 'tip_amount', 'tolls_amount', 'improvement_surcharge',\n",
       "       'total_amount', 'congestion_surcharge', 'airport_fee'],\n",
       "      dtype='object')"
      ]
     },
     "execution_count": 6,
     "metadata": {},
     "output_type": "execute_result"
    }
   ],
   "source": [
    "col_names = df.columns\n",
    "col_names"
   ]
  },
  {
   "cell_type": "code",
   "execution_count": 7,
   "metadata": {},
   "outputs": [
    {
     "data": {
      "text/plain": [
       "VendorID                          int64\n",
       "tpep_pickup_datetime     datetime64[ns]\n",
       "tpep_dropoff_datetime    datetime64[ns]\n",
       "passenger_count                 float64\n",
       "trip_distance                   float64\n",
       "RatecodeID                      float64\n",
       "store_and_fwd_flag               object\n",
       "PULocationID                      int64\n",
       "DOLocationID                      int64\n",
       "payment_type                      int64\n",
       "fare_amount                     float64\n",
       "extra                           float64\n",
       "mta_tax                         float64\n",
       "tip_amount                      float64\n",
       "tolls_amount                    float64\n",
       "improvement_surcharge           float64\n",
       "total_amount                    float64\n",
       "congestion_surcharge            float64\n",
       "airport_fee                     float64\n",
       "dtype: object"
      ]
     },
     "execution_count": 7,
     "metadata": {},
     "output_type": "execute_result"
    }
   ],
   "source": [
    "df.dtypes"
   ]
  },
  {
   "cell_type": "code",
   "execution_count": 8,
   "metadata": {},
   "outputs": [
    {
     "name": "stdout",
     "output_type": "stream",
     "text": [
      "There are 1 categorical variables\n",
      "\n",
      "The categorical variables are : ['store_and_fwd_flag']\n"
     ]
    }
   ],
   "source": [
    "# find categorical variables\n",
    "\n",
    "categorical = [var for var in df.columns if df[var].dtype=='O']\n",
    "\n",
    "print('There are {} categorical variables\\n'.format(len(categorical)))\n",
    "\n",
    "print('The categorical variables are :', categorical)\n"
   ]
  },
  {
   "cell_type": "code",
   "execution_count": null,
   "metadata": {},
   "outputs": [],
   "source": [
    "#check for null values\n",
    "df.isnull().sum()"
   ]
  },
  {
   "cell_type": "code",
   "execution_count": 16,
   "metadata": {},
   "outputs": [
    {
     "data": {
      "text/plain": [
       "2    4680917\n",
       "1    2938778\n",
       "4      76823\n",
       "5         99\n",
       "Name: VendorID, dtype: int64"
      ]
     },
     "execution_count": 16,
     "metadata": {},
     "output_type": "execute_result"
    }
   ],
   "source": [
    "df['VendorID'].value_counts()"
   ]
  },
  {
   "cell_type": "code",
   "execution_count": 11,
   "metadata": {},
   "outputs": [
    {
     "data": {
      "text/plain": [
       "1.0    5456515\n",
       "2.0    1113894\n",
       "5.0     323842\n",
       "3.0     314692\n",
       "6.0     200811\n",
       "4.0     140753\n",
       "0.0     117381\n",
       "8.0         29\n",
       "7.0         19\n",
       "9.0          9\n",
       "Name: passenger_count, dtype: int64"
      ]
     },
     "execution_count": 11,
     "metadata": {},
     "output_type": "execute_result"
    }
   ],
   "source": [
    "df['passenger_count'].value_counts()"
   ]
  },
  {
   "cell_type": "code",
   "execution_count": 13,
   "metadata": {},
   "outputs": [
    {
     "data": {
      "text/plain": [
       "N    0.99509\n",
       "Y    0.00491\n",
       "Name: store_and_fwd_flag, dtype: float64"
      ]
     },
     "execution_count": 13,
     "metadata": {},
     "output_type": "execute_result"
    }
   ],
   "source": [
    "df['store_and_fwd_flag'].value_counts(normalize=True)"
   ]
  },
  {
   "cell_type": "code",
   "execution_count": 35,
   "metadata": {},
   "outputs": [],
   "source": [
    "#add columns of days, hour, and month\n",
    "\n",
    "df['PUmonth'] = df['tpep_pickup_datetime'].dt.month\n",
    "df['DOmonth'] = df['tpep_dropoff_datetime'].dt.month\n",
    "df['PUday'] = df['tpep_pickup_datetime'].dt.day_name\n",
    "df['DOday'] = df['tpep_dropoff_datetime'].dt.day_name\n",
    "df['PUhour'] = df['tpep_pickup_datetime'].dt.hour\n",
    "df['DOhour'] = df['tpep_dropoff_datetime'].dt.hour"
   ]
  },
  {
   "cell_type": "code",
   "execution_count": 44,
   "metadata": {},
   "outputs": [],
   "source": [
    "#add total seconds, duration\n",
    "\n",
    "df['total_sec'] = (df['tpep_dropoff_datetime']-df['tpep_pickup_datetime']).dt.total_seconds()\n",
    "df['duration'] = (df['tpep_dropoff_datetime']-df['tpep_pickup_datetime'])"
   ]
  },
  {
   "cell_type": "code",
   "execution_count": 5,
   "metadata": {},
   "outputs": [
    {
     "data": {
      "text/html": [
       "<div>\n",
       "<style scoped>\n",
       "    .dataframe tbody tr th:only-of-type {\n",
       "        vertical-align: middle;\n",
       "    }\n",
       "\n",
       "    .dataframe tbody tr th {\n",
       "        vertical-align: top;\n",
       "    }\n",
       "\n",
       "    .dataframe thead th {\n",
       "        text-align: right;\n",
       "    }\n",
       "</style>\n",
       "<table border=\"1\" class=\"dataframe\">\n",
       "  <thead>\n",
       "    <tr style=\"text-align: right;\">\n",
       "      <th></th>\n",
       "      <th>VendorID</th>\n",
       "      <th>passenger_count</th>\n",
       "      <th>trip_distance</th>\n",
       "      <th>RatecodeID</th>\n",
       "      <th>PULocationID</th>\n",
       "      <th>DOLocationID</th>\n",
       "      <th>payment_type</th>\n",
       "      <th>fare_amount</th>\n",
       "      <th>extra</th>\n",
       "      <th>mta_tax</th>\n",
       "      <th>tip_amount</th>\n",
       "      <th>tolls_amount</th>\n",
       "      <th>improvement_surcharge</th>\n",
       "      <th>total_amount</th>\n",
       "      <th>congestion_surcharge</th>\n",
       "      <th>airport_fee</th>\n",
       "    </tr>\n",
       "  </thead>\n",
       "  <tbody>\n",
       "    <tr>\n",
       "      <th>count</th>\n",
       "      <td>7.696617e+06</td>\n",
       "      <td>7.667945e+06</td>\n",
       "      <td>7.696617e+06</td>\n",
       "      <td>7.667945e+06</td>\n",
       "      <td>7.696617e+06</td>\n",
       "      <td>7.696617e+06</td>\n",
       "      <td>7.696617e+06</td>\n",
       "      <td>7.696617e+06</td>\n",
       "      <td>7.696617e+06</td>\n",
       "      <td>7.696617e+06</td>\n",
       "      <td>7.696617e+06</td>\n",
       "      <td>7.696617e+06</td>\n",
       "      <td>7.696617e+06</td>\n",
       "      <td>7.696617e+06</td>\n",
       "      <td>2.811730e+06</td>\n",
       "      <td>0.0</td>\n",
       "    </tr>\n",
       "    <tr>\n",
       "      <th>mean</th>\n",
       "      <td>1.638174e+00</td>\n",
       "      <td>1.567032e+00</td>\n",
       "      <td>2.830146e+00</td>\n",
       "      <td>1.058371e+00</td>\n",
       "      <td>1.654005e+02</td>\n",
       "      <td>1.636289e+02</td>\n",
       "      <td>1.286947e+00</td>\n",
       "      <td>1.252968e+01</td>\n",
       "      <td>3.374054e-01</td>\n",
       "      <td>4.964963e-01</td>\n",
       "      <td>1.820830e+00</td>\n",
       "      <td>3.229543e-01</td>\n",
       "      <td>2.993410e-01</td>\n",
       "      <td>1.581065e+01</td>\n",
       "      <td>3.289790e-05</td>\n",
       "      <td>NaN</td>\n",
       "    </tr>\n",
       "    <tr>\n",
       "      <th>std</th>\n",
       "      <td>5.393984e-01</td>\n",
       "      <td>1.224420e+00</td>\n",
       "      <td>3.774548e+00</td>\n",
       "      <td>6.780839e-01</td>\n",
       "      <td>6.643992e+01</td>\n",
       "      <td>7.040929e+01</td>\n",
       "      <td>4.789416e-01</td>\n",
       "      <td>2.615897e+02</td>\n",
       "      <td>5.313564e-01</td>\n",
       "      <td>5.492382e-02</td>\n",
       "      <td>2.499463e+00</td>\n",
       "      <td>2.029812e+00</td>\n",
       "      <td>1.907704e-02</td>\n",
       "      <td>2.618117e+02</td>\n",
       "      <td>9.068830e-03</td>\n",
       "      <td>NaN</td>\n",
       "    </tr>\n",
       "    <tr>\n",
       "      <th>min</th>\n",
       "      <td>1.000000e+00</td>\n",
       "      <td>0.000000e+00</td>\n",
       "      <td>0.000000e+00</td>\n",
       "      <td>1.000000e+00</td>\n",
       "      <td>1.000000e+00</td>\n",
       "      <td>1.000000e+00</td>\n",
       "      <td>0.000000e+00</td>\n",
       "      <td>-3.620000e+02</td>\n",
       "      <td>-6.000000e+01</td>\n",
       "      <td>-5.000000e-01</td>\n",
       "      <td>-6.350000e+01</td>\n",
       "      <td>-7.000000e+01</td>\n",
       "      <td>-3.000000e-01</td>\n",
       "      <td>-3.628000e+02</td>\n",
       "      <td>0.000000e+00</td>\n",
       "      <td>NaN</td>\n",
       "    </tr>\n",
       "    <tr>\n",
       "      <th>25%</th>\n",
       "      <td>1.000000e+00</td>\n",
       "      <td>1.000000e+00</td>\n",
       "      <td>9.000000e-01</td>\n",
       "      <td>1.000000e+00</td>\n",
       "      <td>1.270000e+02</td>\n",
       "      <td>1.130000e+02</td>\n",
       "      <td>1.000000e+00</td>\n",
       "      <td>6.000000e+00</td>\n",
       "      <td>0.000000e+00</td>\n",
       "      <td>5.000000e-01</td>\n",
       "      <td>0.000000e+00</td>\n",
       "      <td>0.000000e+00</td>\n",
       "      <td>3.000000e-01</td>\n",
       "      <td>8.300000e+00</td>\n",
       "      <td>0.000000e+00</td>\n",
       "      <td>NaN</td>\n",
       "    </tr>\n",
       "    <tr>\n",
       "      <th>50%</th>\n",
       "      <td>2.000000e+00</td>\n",
       "      <td>1.000000e+00</td>\n",
       "      <td>1.530000e+00</td>\n",
       "      <td>1.000000e+00</td>\n",
       "      <td>1.620000e+02</td>\n",
       "      <td>1.620000e+02</td>\n",
       "      <td>1.000000e+00</td>\n",
       "      <td>9.000000e+00</td>\n",
       "      <td>0.000000e+00</td>\n",
       "      <td>5.000000e-01</td>\n",
       "      <td>1.400000e+00</td>\n",
       "      <td>0.000000e+00</td>\n",
       "      <td>3.000000e-01</td>\n",
       "      <td>1.130000e+01</td>\n",
       "      <td>0.000000e+00</td>\n",
       "      <td>NaN</td>\n",
       "    </tr>\n",
       "    <tr>\n",
       "      <th>75%</th>\n",
       "      <td>2.000000e+00</td>\n",
       "      <td>2.000000e+00</td>\n",
       "      <td>2.830000e+00</td>\n",
       "      <td>1.000000e+00</td>\n",
       "      <td>2.340000e+02</td>\n",
       "      <td>2.340000e+02</td>\n",
       "      <td>2.000000e+00</td>\n",
       "      <td>1.350000e+01</td>\n",
       "      <td>5.000000e-01</td>\n",
       "      <td>5.000000e-01</td>\n",
       "      <td>2.320000e+00</td>\n",
       "      <td>0.000000e+00</td>\n",
       "      <td>3.000000e-01</td>\n",
       "      <td>1.660000e+01</td>\n",
       "      <td>0.000000e+00</td>\n",
       "      <td>NaN</td>\n",
       "    </tr>\n",
       "    <tr>\n",
       "      <th>max</th>\n",
       "      <td>5.000000e+00</td>\n",
       "      <td>9.000000e+00</td>\n",
       "      <td>8.318000e+02</td>\n",
       "      <td>9.900000e+01</td>\n",
       "      <td>2.650000e+02</td>\n",
       "      <td>2.650000e+02</td>\n",
       "      <td>4.000000e+00</td>\n",
       "      <td>6.232599e+05</td>\n",
       "      <td>5.353800e+02</td>\n",
       "      <td>6.080000e+01</td>\n",
       "      <td>7.872500e+02</td>\n",
       "      <td>3.288000e+03</td>\n",
       "      <td>6.000000e-01</td>\n",
       "      <td>6.232617e+05</td>\n",
       "      <td>2.500000e+00</td>\n",
       "      <td>NaN</td>\n",
       "    </tr>\n",
       "  </tbody>\n",
       "</table>\n",
       "</div>"
      ],
      "text/plain": [
       "           VendorID  passenger_count  trip_distance    RatecodeID  \\\n",
       "count  7.696617e+06     7.667945e+06   7.696617e+06  7.667945e+06   \n",
       "mean   1.638174e+00     1.567032e+00   2.830146e+00  1.058371e+00   \n",
       "std    5.393984e-01     1.224420e+00   3.774548e+00  6.780839e-01   \n",
       "min    1.000000e+00     0.000000e+00   0.000000e+00  1.000000e+00   \n",
       "25%    1.000000e+00     1.000000e+00   9.000000e-01  1.000000e+00   \n",
       "50%    2.000000e+00     1.000000e+00   1.530000e+00  1.000000e+00   \n",
       "75%    2.000000e+00     2.000000e+00   2.830000e+00  1.000000e+00   \n",
       "max    5.000000e+00     9.000000e+00   8.318000e+02  9.900000e+01   \n",
       "\n",
       "       PULocationID  DOLocationID  payment_type   fare_amount         extra  \\\n",
       "count  7.696617e+06  7.696617e+06  7.696617e+06  7.696617e+06  7.696617e+06   \n",
       "mean   1.654005e+02  1.636289e+02  1.286947e+00  1.252968e+01  3.374054e-01   \n",
       "std    6.643992e+01  7.040929e+01  4.789416e-01  2.615897e+02  5.313564e-01   \n",
       "min    1.000000e+00  1.000000e+00  0.000000e+00 -3.620000e+02 -6.000000e+01   \n",
       "25%    1.270000e+02  1.130000e+02  1.000000e+00  6.000000e+00  0.000000e+00   \n",
       "50%    1.620000e+02  1.620000e+02  1.000000e+00  9.000000e+00  0.000000e+00   \n",
       "75%    2.340000e+02  2.340000e+02  2.000000e+00  1.350000e+01  5.000000e-01   \n",
       "max    2.650000e+02  2.650000e+02  4.000000e+00  6.232599e+05  5.353800e+02   \n",
       "\n",
       "            mta_tax    tip_amount  tolls_amount  improvement_surcharge  \\\n",
       "count  7.696617e+06  7.696617e+06  7.696617e+06           7.696617e+06   \n",
       "mean   4.964963e-01  1.820830e+00  3.229543e-01           2.993410e-01   \n",
       "std    5.492382e-02  2.499463e+00  2.029812e+00           1.907704e-02   \n",
       "min   -5.000000e-01 -6.350000e+01 -7.000000e+01          -3.000000e-01   \n",
       "25%    5.000000e-01  0.000000e+00  0.000000e+00           3.000000e-01   \n",
       "50%    5.000000e-01  1.400000e+00  0.000000e+00           3.000000e-01   \n",
       "75%    5.000000e-01  2.320000e+00  0.000000e+00           3.000000e-01   \n",
       "max    6.080000e+01  7.872500e+02  3.288000e+03           6.000000e-01   \n",
       "\n",
       "       total_amount  congestion_surcharge  airport_fee  \n",
       "count  7.696617e+06          2.811730e+06          0.0  \n",
       "mean   1.581065e+01          3.289790e-05          NaN  \n",
       "std    2.618117e+02          9.068830e-03          NaN  \n",
       "min   -3.628000e+02          0.000000e+00          NaN  \n",
       "25%    8.300000e+00          0.000000e+00          NaN  \n",
       "50%    1.130000e+01          0.000000e+00          NaN  \n",
       "75%    1.660000e+01          0.000000e+00          NaN  \n",
       "max    6.232617e+05          2.500000e+00          NaN  "
      ]
     },
     "execution_count": 5,
     "metadata": {},
     "output_type": "execute_result"
    }
   ],
   "source": [
    "df.describe()"
   ]
  },
  {
   "cell_type": "code",
   "execution_count": null,
   "metadata": {},
   "outputs": [],
   "source": [
    "df = df.drop(['store_and_fwd_flag'],axis=1)"
   ]
  },
  {
   "cell_type": "code",
   "execution_count": 6,
   "metadata": {},
   "outputs": [],
   "source": []
  },
  {
   "cell_type": "code",
   "execution_count": 10,
   "metadata": {},
   "outputs": [],
   "source": [
    "#Drop all the rows having Pickup and dropoff location outside 1 to 263\n",
    "#Drop all rows having date not 2019\n",
    "#Drop rows having trip distance,duration, fare less than or equal to 0\n",
    "\n",
    "df1 = df.drop(df[((df.PULocationID>263) | (df.PULocationID<1) | (df.DOLocationID>263) | (df.DOLocationID<1) | (df.tpep_pickup_datetime.dt.year!=2019) | (df.trip_distance==0) | (df.fare_amount<=0) | (df.total_amount<=0) | (df.duration<0))].index)"
   ]
  },
  {
   "cell_type": "code",
   "execution_count": null,
   "metadata": {},
   "outputs": [],
   "source": []
  },
  {
   "cell_type": "code",
   "execution_count": 67,
   "metadata": {},
   "outputs": [],
   "source": [
    "#autofill passenger count as 1 if NAN\n",
    "\n",
    "df1.passenger_count = df1.passenger_count.fillna(1)"
   ]
  },
  {
   "cell_type": "code",
   "execution_count": 68,
   "metadata": {},
   "outputs": [
    {
     "data": {
      "text/html": [
       "<div>\n",
       "<style scoped>\n",
       "    .dataframe tbody tr th:only-of-type {\n",
       "        vertical-align: middle;\n",
       "    }\n",
       "\n",
       "    .dataframe tbody tr th {\n",
       "        vertical-align: top;\n",
       "    }\n",
       "\n",
       "    .dataframe thead th {\n",
       "        text-align: right;\n",
       "    }\n",
       "</style>\n",
       "<table border=\"1\" class=\"dataframe\">\n",
       "  <thead>\n",
       "    <tr style=\"text-align: right;\">\n",
       "      <th></th>\n",
       "      <th>payment_type</th>\n",
       "      <th>fare_amount</th>\n",
       "    </tr>\n",
       "  </thead>\n",
       "  <tbody>\n",
       "    <tr>\n",
       "      <th>176</th>\n",
       "      <td>3</td>\n",
       "      <td>4.0</td>\n",
       "    </tr>\n",
       "    <tr>\n",
       "      <th>214</th>\n",
       "      <td>3</td>\n",
       "      <td>8.0</td>\n",
       "    </tr>\n",
       "    <tr>\n",
       "      <th>371</th>\n",
       "      <td>3</td>\n",
       "      <td>5.0</td>\n",
       "    </tr>\n",
       "    <tr>\n",
       "      <th>389</th>\n",
       "      <td>3</td>\n",
       "      <td>7.0</td>\n",
       "    </tr>\n",
       "    <tr>\n",
       "      <th>475</th>\n",
       "      <td>3</td>\n",
       "      <td>42.5</td>\n",
       "    </tr>\n",
       "    <tr>\n",
       "      <th>...</th>\n",
       "      <td>...</td>\n",
       "      <td>...</td>\n",
       "    </tr>\n",
       "    <tr>\n",
       "      <th>7666490</th>\n",
       "      <td>3</td>\n",
       "      <td>5.0</td>\n",
       "    </tr>\n",
       "    <tr>\n",
       "      <th>7666891</th>\n",
       "      <td>3</td>\n",
       "      <td>4.5</td>\n",
       "    </tr>\n",
       "    <tr>\n",
       "      <th>7666995</th>\n",
       "      <td>3</td>\n",
       "      <td>2.5</td>\n",
       "    </tr>\n",
       "    <tr>\n",
       "      <th>7667324</th>\n",
       "      <td>3</td>\n",
       "      <td>10.5</td>\n",
       "    </tr>\n",
       "    <tr>\n",
       "      <th>7667867</th>\n",
       "      <td>3</td>\n",
       "      <td>2.5</td>\n",
       "    </tr>\n",
       "  </tbody>\n",
       "</table>\n",
       "<p>22815 rows × 2 columns</p>\n",
       "</div>"
      ],
      "text/plain": [
       "         payment_type  fare_amount\n",
       "176                 3          4.0\n",
       "214                 3          8.0\n",
       "371                 3          5.0\n",
       "389                 3          7.0\n",
       "475                 3         42.5\n",
       "...               ...          ...\n",
       "7666490             3          5.0\n",
       "7666891             3          4.5\n",
       "7666995             3          2.5\n",
       "7667324             3         10.5\n",
       "7667867             3          2.5\n",
       "\n",
       "[22815 rows x 2 columns]"
      ]
     },
     "execution_count": 68,
     "metadata": {},
     "output_type": "execute_result"
    }
   ],
   "source": [
    "df1.loc[(df1.payment_type == 3),['payment_type', 'fare_amount']]"
   ]
  },
  {
   "cell_type": "code",
   "execution_count": 32,
   "metadata": {},
   "outputs": [
    {
     "data": {
      "text/plain": [
       "Thursday     1316531\n",
       "Wednesday    1228477\n",
       "Tuesday      1173198\n",
       "Friday       1056131\n",
       "Saturday      981165\n",
       "Monday        877790\n",
       "Sunday        835154\n",
       "Name: PU_day, dtype: int64"
      ]
     },
     "execution_count": 32,
     "metadata": {},
     "output_type": "execute_result"
    }
   ],
   "source": [
    "#check count of people hiring taxi on each day\n",
    "df1.PU_day.value_counts()"
   ]
  },
  {
   "cell_type": "code",
   "execution_count": 61,
   "metadata": {},
   "outputs": [
    {
     "data": {
      "text/plain": [
       "True"
      ]
     },
     "execution_count": 61,
     "metadata": {},
     "output_type": "execute_result"
    }
   ],
   "source": [
    "any((df.duration<0))"
   ]
  },
  {
   "cell_type": "markdown",
   "metadata": {},
   "source": [
    "#references\n",
    "\n",
    "\n",
    "#https://pandas.pydata.org/docs/reference/api/pandas.Series.dt.year.html\n",
    "#https://medium.com/analytics-vidhya/exploratory-data-analysis-nyc-taxi-price-prediction-using-python-44fce176a8fe"
   ]
  }
 ],
 "metadata": {
  "kernelspec": {
   "display_name": "Python 3 (ipykernel)",
   "language": "python",
   "name": "python3"
  },
  "language_info": {
   "codemirror_mode": {
    "name": "ipython",
    "version": 3
   },
   "file_extension": ".py",
   "mimetype": "text/x-python",
   "name": "python",
   "nbconvert_exporter": "python",
   "pygments_lexer": "ipython3",
   "version": "3.10.6"
  }
 },
 "nbformat": 4,
 "nbformat_minor": 4
}
